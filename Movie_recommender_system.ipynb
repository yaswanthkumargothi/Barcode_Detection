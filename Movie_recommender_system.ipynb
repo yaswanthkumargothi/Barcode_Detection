{
  "nbformat": 4,
  "nbformat_minor": 0,
  "metadata": {
    "colab": {
      "name": "Movie recommender system.ipynb",
      "provenance": [],
      "authorship_tag": "ABX9TyOJ3Cz47RdxwuZIkc2HJUiT",
      "include_colab_link": true
    },
    "kernelspec": {
      "name": "python3",
      "display_name": "Python 3"
    },
    "language_info": {
      "name": "python"
    }
  },
  "cells": [
    {
      "cell_type": "markdown",
      "metadata": {
        "id": "view-in-github",
        "colab_type": "text"
      },
      "source": [
        "<a href=\"https://colab.research.google.com/github/yaswanthkumargothi/Barcode_Detection/blob/main/Movie_recommender_system.ipynb\" target=\"_parent\"><img src=\"https://colab.research.google.com/assets/colab-badge.svg\" alt=\"Open In Colab\"/></a>"
      ]
    },
    {
      "cell_type": "markdown",
      "metadata": {
        "id": "ATA-6IfoV6tg"
      },
      "source": [
        "# Movie Recommendation System - *Sequential Experimental Design*\n",
        "\n",
        "\n",
        "The structure of this notebook is as follows,\n",
        "\n",
        "1. EDA\n",
        "2. Baseline model for movie recommendations using explicit feedback\n",
        "3. Item-based model using explicit feedback\n",
        "4. Hybrid model using implicit feedback \n",
        "5. Adding context variables and building Deep models using Tensorflow Recommenders \n",
        "7. Conclusion"
      ]
    },
    {
      "cell_type": "code",
      "metadata": {
        "id": "B9mVAn86CqoM",
        "colab": {
          "base_uri": "https://localhost:8080/"
        },
        "outputId": "3e71231e-8268-4709-c8a0-0fabfad931c7"
      },
      "source": [
        "!pip install -q tensorflow-recommenders\n",
        "!pip install -q --upgrade tensorflow-datasets"
      ],
      "execution_count": 4,
      "outputs": [
        {
          "output_type": "stream",
          "text": [
            "\u001b[K     |████████████████████████████████| 85 kB 2.6 MB/s \n",
            "\u001b[K     |████████████████████████████████| 4.0 MB 7.9 MB/s \n",
            "\u001b[?25h"
          ],
          "name": "stdout"
        }
      ]
    },
    {
      "cell_type": "code",
      "metadata": {
        "id": "leemQa9NC0uq"
      },
      "source": [
        "from typing import Dict, Text\n",
        "\n",
        "import matplotlib.pyplot as plt\n",
        "import seaborn as sns\n",
        "\n",
        "import numpy as np\n",
        "import pandas as pd\n",
        "import tensorflow as tf\n",
        "\n",
        "import tensorflow_datasets as tfds\n",
        "import tensorflow_recommenders as tfrs"
      ],
      "execution_count": 5,
      "outputs": []
    },
    {
      "cell_type": "code",
      "metadata": {
        "id": "Y7-I6OkAC7ul"
      },
      "source": [
        "# Ratings data.\n",
        "ratings = tfds.load('movielens/100k-ratings', split=\"train\")\n",
        "# Features of all the available movies.\n",
        "movies = tfds.load('movielens/100k-movies', split=\"train\")"
      ],
      "execution_count": null,
      "outputs": []
    },
    {
      "cell_type": "markdown",
      "metadata": {
        "id": "C_qUHir3XAri"
      },
      "source": [
        "Data: \n",
        "\n",
        "u.data     -- The full u.data set, 100000 ratings by 943 users on 1682 items.\n",
        "              Each user has rated at least 20 movies.  Users and items are\n",
        "              numbered consecutively from 1.  The data is randomly\n",
        "              ordered.   \n",
        "            This is a tab separated list of     \n",
        "\t          user id | item id | rating | timestamp. \n",
        "              \n",
        "The time stamps are unix seconds since 1/1/1970 UTC  "
      ]
    },
    {
      "cell_type": "markdown",
      "metadata": {
        "id": "MsOC5aOQCBpM"
      },
      "source": [
        "## EDA"
      ]
    },
    {
      "cell_type": "code",
      "metadata": {
        "colab": {
          "base_uri": "https://localhost:8080/",
          "height": 133
        },
        "id": "Wg2GiAE_B88W",
        "outputId": "7bfdc170-89ed-4880-8d5d-7ea194a832a5"
      },
      "source": [
        "# ratings\n",
        "tfds.as_dataframe(ratings.take(2))"
      ],
      "execution_count": 7,
      "outputs": [
        {
          "output_type": "execute_result",
          "data": {
            "text/html": [
              "<style  type=\"text/css\" >\n",
              "</style><table id=\"T_b109626c_0669_11ec_9772_0242ac1c0002\" ><thead>    <tr>        <th class=\"blank level0\" ></th>        <th class=\"col_heading level0 col0\" >bucketized_user_age</th>        <th class=\"col_heading level0 col1\" >movie_genres</th>        <th class=\"col_heading level0 col2\" >movie_id</th>        <th class=\"col_heading level0 col3\" >movie_title</th>        <th class=\"col_heading level0 col4\" >raw_user_age</th>        <th class=\"col_heading level0 col5\" >timestamp</th>        <th class=\"col_heading level0 col6\" >user_gender</th>        <th class=\"col_heading level0 col7\" >user_id</th>        <th class=\"col_heading level0 col8\" >user_occupation_label</th>        <th class=\"col_heading level0 col9\" >user_occupation_text</th>        <th class=\"col_heading level0 col10\" >user_rating</th>        <th class=\"col_heading level0 col11\" >user_zip_code</th>    </tr></thead><tbody>\n",
              "                <tr>\n",
              "                        <th id=\"T_b109626c_0669_11ec_9772_0242ac1c0002level0_row0\" class=\"row_heading level0 row0\" >0</th>\n",
              "                        <td id=\"T_b109626c_0669_11ec_9772_0242ac1c0002row0_col0\" class=\"data row0 col0\" >45.000000</td>\n",
              "                        <td id=\"T_b109626c_0669_11ec_9772_0242ac1c0002row0_col1\" class=\"data row0 col1\" >[7]</td>\n",
              "                        <td id=\"T_b109626c_0669_11ec_9772_0242ac1c0002row0_col2\" class=\"data row0 col2\" >b'357'</td>\n",
              "                        <td id=\"T_b109626c_0669_11ec_9772_0242ac1c0002row0_col3\" class=\"data row0 col3\" >b\"One Flew Over the Cuckoo's Nest (1975)\"</td>\n",
              "                        <td id=\"T_b109626c_0669_11ec_9772_0242ac1c0002row0_col4\" class=\"data row0 col4\" >46.000000</td>\n",
              "                        <td id=\"T_b109626c_0669_11ec_9772_0242ac1c0002row0_col5\" class=\"data row0 col5\" >879024327</td>\n",
              "                        <td id=\"T_b109626c_0669_11ec_9772_0242ac1c0002row0_col6\" class=\"data row0 col6\" >True</td>\n",
              "                        <td id=\"T_b109626c_0669_11ec_9772_0242ac1c0002row0_col7\" class=\"data row0 col7\" >b'138'</td>\n",
              "                        <td id=\"T_b109626c_0669_11ec_9772_0242ac1c0002row0_col8\" class=\"data row0 col8\" >4</td>\n",
              "                        <td id=\"T_b109626c_0669_11ec_9772_0242ac1c0002row0_col9\" class=\"data row0 col9\" >b'doctor'</td>\n",
              "                        <td id=\"T_b109626c_0669_11ec_9772_0242ac1c0002row0_col10\" class=\"data row0 col10\" >4.000000</td>\n",
              "                        <td id=\"T_b109626c_0669_11ec_9772_0242ac1c0002row0_col11\" class=\"data row0 col11\" >b'53211'</td>\n",
              "            </tr>\n",
              "            <tr>\n",
              "                        <th id=\"T_b109626c_0669_11ec_9772_0242ac1c0002level0_row1\" class=\"row_heading level0 row1\" >1</th>\n",
              "                        <td id=\"T_b109626c_0669_11ec_9772_0242ac1c0002row1_col0\" class=\"data row1 col0\" >25.000000</td>\n",
              "                        <td id=\"T_b109626c_0669_11ec_9772_0242ac1c0002row1_col1\" class=\"data row1 col1\" >[ 4 14]</td>\n",
              "                        <td id=\"T_b109626c_0669_11ec_9772_0242ac1c0002row1_col2\" class=\"data row1 col2\" >b'709'</td>\n",
              "                        <td id=\"T_b109626c_0669_11ec_9772_0242ac1c0002row1_col3\" class=\"data row1 col3\" >b'Strictly Ballroom (1992)'</td>\n",
              "                        <td id=\"T_b109626c_0669_11ec_9772_0242ac1c0002row1_col4\" class=\"data row1 col4\" >32.000000</td>\n",
              "                        <td id=\"T_b109626c_0669_11ec_9772_0242ac1c0002row1_col5\" class=\"data row1 col5\" >875654590</td>\n",
              "                        <td id=\"T_b109626c_0669_11ec_9772_0242ac1c0002row1_col6\" class=\"data row1 col6\" >True</td>\n",
              "                        <td id=\"T_b109626c_0669_11ec_9772_0242ac1c0002row1_col7\" class=\"data row1 col7\" >b'92'</td>\n",
              "                        <td id=\"T_b109626c_0669_11ec_9772_0242ac1c0002row1_col8\" class=\"data row1 col8\" >5</td>\n",
              "                        <td id=\"T_b109626c_0669_11ec_9772_0242ac1c0002row1_col9\" class=\"data row1 col9\" >b'entertainment'</td>\n",
              "                        <td id=\"T_b109626c_0669_11ec_9772_0242ac1c0002row1_col10\" class=\"data row1 col10\" >2.000000</td>\n",
              "                        <td id=\"T_b109626c_0669_11ec_9772_0242ac1c0002row1_col11\" class=\"data row1 col11\" >b'80525'</td>\n",
              "            </tr>\n",
              "    </tbody></table>"
            ],
            "text/plain": [
              "   bucketized_user_age movie_genres  ... user_rating user_zip_code\n",
              "0                 45.0          [7]  ...         4.0      b'53211'\n",
              "1                 25.0      [4, 14]  ...         2.0      b'80525'\n",
              "\n",
              "[2 rows x 12 columns]"
            ]
          },
          "metadata": {},
          "execution_count": 7
        }
      ]
    },
    {
      "cell_type": "code",
      "metadata": {
        "colab": {
          "base_uri": "https://localhost:8080/",
          "height": 124
        },
        "id": "o7woptlUNQcq",
        "outputId": "49f68677-faa9-4ae8-c9d2-0dbcb4a2f12d"
      },
      "source": [
        "#movies\n",
        "tfds.as_dataframe(movies.take(4))"
      ],
      "execution_count": 8,
      "outputs": [
        {
          "output_type": "execute_result",
          "data": {
            "text/html": [
              "<style  type=\"text/css\" >\n",
              "</style><table id=\"T_b3aca22c_0669_11ec_9772_0242ac1c0002\" ><thead>    <tr>        <th class=\"blank level0\" ></th>        <th class=\"col_heading level0 col0\" >movie_genres</th>        <th class=\"col_heading level0 col1\" >movie_id</th>        <th class=\"col_heading level0 col2\" >movie_title</th>    </tr></thead><tbody>\n",
              "                <tr>\n",
              "                        <th id=\"T_b3aca22c_0669_11ec_9772_0242ac1c0002level0_row0\" class=\"row_heading level0 row0\" >0</th>\n",
              "                        <td id=\"T_b3aca22c_0669_11ec_9772_0242ac1c0002row0_col0\" class=\"data row0 col0\" >[4]</td>\n",
              "                        <td id=\"T_b3aca22c_0669_11ec_9772_0242ac1c0002row0_col1\" class=\"data row0 col1\" >b'1681'</td>\n",
              "                        <td id=\"T_b3aca22c_0669_11ec_9772_0242ac1c0002row0_col2\" class=\"data row0 col2\" >b'You So Crazy (1994)'</td>\n",
              "            </tr>\n",
              "            <tr>\n",
              "                        <th id=\"T_b3aca22c_0669_11ec_9772_0242ac1c0002level0_row1\" class=\"row_heading level0 row1\" >1</th>\n",
              "                        <td id=\"T_b3aca22c_0669_11ec_9772_0242ac1c0002row1_col0\" class=\"data row1 col0\" >[4 7]</td>\n",
              "                        <td id=\"T_b3aca22c_0669_11ec_9772_0242ac1c0002row1_col1\" class=\"data row1 col1\" >b'1457'</td>\n",
              "                        <td id=\"T_b3aca22c_0669_11ec_9772_0242ac1c0002row1_col2\" class=\"data row1 col2\" >b'Love Is All There Is (1996)'</td>\n",
              "            </tr>\n",
              "            <tr>\n",
              "                        <th id=\"T_b3aca22c_0669_11ec_9772_0242ac1c0002level0_row2\" class=\"row_heading level0 row2\" >2</th>\n",
              "                        <td id=\"T_b3aca22c_0669_11ec_9772_0242ac1c0002row2_col0\" class=\"data row2 col0\" >[1 3]</td>\n",
              "                        <td id=\"T_b3aca22c_0669_11ec_9772_0242ac1c0002row2_col1\" class=\"data row2 col1\" >b'500'</td>\n",
              "                        <td id=\"T_b3aca22c_0669_11ec_9772_0242ac1c0002row2_col2\" class=\"data row2 col2\" >b'Fly Away Home (1996)'</td>\n",
              "            </tr>\n",
              "            <tr>\n",
              "                        <th id=\"T_b3aca22c_0669_11ec_9772_0242ac1c0002level0_row3\" class=\"row_heading level0 row3\" >3</th>\n",
              "                        <td id=\"T_b3aca22c_0669_11ec_9772_0242ac1c0002row3_col0\" class=\"data row3 col0\" >[0]</td>\n",
              "                        <td id=\"T_b3aca22c_0669_11ec_9772_0242ac1c0002row3_col1\" class=\"data row3 col1\" >b'838'</td>\n",
              "                        <td id=\"T_b3aca22c_0669_11ec_9772_0242ac1c0002row3_col2\" class=\"data row3 col2\" >b'In the Line of Duty 2 (1987)'</td>\n",
              "            </tr>\n",
              "    </tbody></table>"
            ],
            "text/plain": [
              "  movie_genres movie_id                      movie_title\n",
              "0          [4]  b'1681'           b'You So Crazy (1994)'\n",
              "1       [4, 7]  b'1457'   b'Love Is All There Is (1996)'\n",
              "2       [1, 3]   b'500'          b'Fly Away Home (1996)'\n",
              "3          [0]   b'838'  b'In the Line of Duty 2 (1987)'"
            ]
          },
          "metadata": {},
          "execution_count": 8
        }
      ]
    },
    {
      "cell_type": "code",
      "metadata": {
        "id": "DIvUt82aNs65"
      },
      "source": [
        "# converting Tensorflow Dataset into a DataFrame for plotting\n",
        "\n",
        "ratings_df = tfds.as_dataframe(ratings)\n",
        "movies_df =  tfds.as_dataframe(movies)"
      ],
      "execution_count": 9,
      "outputs": []
    },
    {
      "cell_type": "code",
      "metadata": {
        "id": "BibhHoBEPFNq"
      },
      "source": [
        "df=pd.merge(ratings_df,movies_df,on=\"movie_id\")"
      ],
      "execution_count": 10,
      "outputs": []
    },
    {
      "cell_type": "code",
      "metadata": {
        "colab": {
          "base_uri": "https://localhost:8080/"
        },
        "id": "xJhi99qjPT4j",
        "outputId": "55703489-6f21-4844-a511-cac11873038e"
      },
      "source": [
        "df.columns"
      ],
      "execution_count": 11,
      "outputs": [
        {
          "output_type": "execute_result",
          "data": {
            "text/plain": [
              "Index(['bucketized_user_age', 'movie_genres_x', 'movie_id', 'movie_title_x',\n",
              "       'raw_user_age', 'timestamp', 'user_gender', 'user_id',\n",
              "       'user_occupation_label', 'user_occupation_text', 'user_rating',\n",
              "       'user_zip_code', 'movie_genres_y', 'movie_title_y'],\n",
              "      dtype='object')"
            ]
          },
          "metadata": {},
          "execution_count": 11
        }
      ]
    },
    {
      "cell_type": "code",
      "metadata": {
        "colab": {
          "base_uri": "https://localhost:8080/"
        },
        "id": "8BX2XH1FR6OF",
        "outputId": "2f55b3e6-40d5-42ee-8af0-708691db577b"
      },
      "source": [
        "#missing values\n",
        "df.isna().sum()"
      ],
      "execution_count": null,
      "outputs": [
        {
          "output_type": "execute_result",
          "data": {
            "text/plain": [
              "bucketized_user_age      0\n",
              "movie_genres_x           0\n",
              "movie_id                 0\n",
              "movie_title_x            0\n",
              "raw_user_age             0\n",
              "timestamp                0\n",
              "user_gender              0\n",
              "user_id                  0\n",
              "user_occupation_label    0\n",
              "user_occupation_text     0\n",
              "user_rating              0\n",
              "user_zip_code            0\n",
              "movie_genres_y           0\n",
              "movie_title_y            0\n",
              "dtype: int64"
            ]
          },
          "metadata": {},
          "execution_count": 9
        }
      ]
    },
    {
      "cell_type": "code",
      "metadata": {
        "colab": {
          "base_uri": "https://localhost:8080/"
        },
        "id": "VQzNst9TSBj-",
        "outputId": "ef25bc85-6a6a-44dc-ec47-7fe701d1fa0b"
      },
      "source": [
        "#total number of unique users \n",
        "len(df[\"user_id\"].unique())"
      ],
      "execution_count": 12,
      "outputs": [
        {
          "output_type": "execute_result",
          "data": {
            "text/plain": [
              "943"
            ]
          },
          "metadata": {},
          "execution_count": 12
        }
      ]
    },
    {
      "cell_type": "code",
      "metadata": {
        "colab": {
          "base_uri": "https://localhost:8080/"
        },
        "id": "F7Lj8dWKScjN",
        "outputId": "c9fd766b-7e2f-4899-b975-2372c755982e"
      },
      "source": [
        "#total number of unique movies\n",
        "len(df[\"movie_title_x\"].unique())"
      ],
      "execution_count": 13,
      "outputs": [
        {
          "output_type": "execute_result",
          "data": {
            "text/plain": [
              "1664"
            ]
          },
          "metadata": {},
          "execution_count": 13
        }
      ]
    },
    {
      "cell_type": "code",
      "metadata": {
        "colab": {
          "base_uri": "https://localhost:8080/",
          "height": 585
        },
        "id": "PcYMP414SsC6",
        "outputId": "fdc02d4a-7049-4b0d-e70c-93af9313a59e"
      },
      "source": [
        "#genders vs rating\n",
        "fig,ax=plt.subplots(figsize=(8,9))\n",
        "ax = sns.boxplot(y=\"user_rating\", x=\"user_gender\", data= df)\n",
        "ax.set_title(\"gender Vs user rating distribution plot\")"
      ],
      "execution_count": 14,
      "outputs": [
        {
          "output_type": "execute_result",
          "data": {
            "text/plain": [
              "Text(0.5, 1.0, 'gender Vs user rating distribution plot')"
            ]
          },
          "metadata": {},
          "execution_count": 14
        },
        {
          "output_type": "display_data",
          "data": {
            "image/png": "[encoded data removed]",
            "text/plain": [
              "<Figure size 576x648 with 1 Axes>"
            ]
          },
          "metadata": {
            "needs_background": "light"
          }
        }
      ]
    },
    {
      "cell_type": "code",
      "metadata": {
        "colab": {
          "base_uri": "https://localhost:8080/",
          "height": 585
        },
        "id": "q_Os2iUiWstr",
        "outputId": "d67cf640-df05-46e0-b76f-ab2569704bd0"
      },
      "source": [
        "#user_rating vs bucketized user age\n",
        "fig,ax=plt.subplots(figsize=(8,9))\n",
        "ax = sns.boxplot(y=\"user_rating\", x=\"bucketized_user_age\", data= df)\n",
        "ax.set_title(\"user_rating vs bucketized user age plot\")"
      ],
      "execution_count": 15,
      "outputs": [
        {
          "output_type": "execute_result",
          "data": {
            "text/plain": [
              "Text(0.5, 1.0, 'user_rating vs bucketized user age plot')"
            ]
          },
          "metadata": {},
          "execution_count": 15
        },
        {
          "output_type": "display_data",
          "data": {
            "image/png": "[encoded data removed]",
            "text/plain": [
              "<Figure size 576x648 with 1 Axes>"
            ]
          },
          "metadata": {
            "needs_background": "light"
          }
        }
      ]
    },
    {
      "cell_type": "code",
      "metadata": {
        "colab": {
          "base_uri": "https://localhost:8080/",
          "height": 458
        },
        "id": "qzpx0ZXKZEqb",
        "outputId": "77eb764c-0d65-4704-a540-691dd0da3f46"
      },
      "source": [
        "average_ratings=pd.DataFrame(df.groupby(\"movie_title_x\").mean()['user_rating'])\n",
        "average_ratings['rating_count']=pd.DataFrame(df.groupby(\"movie_title_x\").count()[\"user_rating\"])\n",
        "\n",
        "\n",
        "\n",
        "\n",
        "sns.jointplot(x='user_rating',y='rating_count',data=average_ratings,alpha=0.5)\n",
        "#plt.title(\"user rating Vs Average movie rating count\")"
      ],
      "execution_count": 21,
      "outputs": [
        {
          "output_type": "execute_result",
          "data": {
            "text/plain": [
              "<seaborn.axisgrid.JointGrid at 0x7f12ae519350>"
            ]
          },
          "metadata": {},
          "execution_count": 21
        },
        {
          "output_type": "display_data",
          "data": {
            "image/png": "[encoded data removed]",
            "text/plain": [
              "<Figure size 432x432 with 3 Axes>"
            ]
          },
          "metadata": {
            "needs_background": "light"
          }
        }
      ]
    },
    {
      "cell_type": "code",
      "metadata": {
        "colab": {
          "base_uri": "https://localhost:8080/"
        },
        "id": "ac45pBGkX3I7",
        "outputId": "ac0ffc42-850f-413a-f4fc-11a4cfff0692"
      },
      "source": [
        "df[\"user_zip_code\"].value_counts()"
      ],
      "execution_count": null,
      "outputs": [
        {
          "output_type": "execute_result",
          "data": {
            "text/plain": [
              "b'55414'    1103\n",
              "b'20009'     878\n",
              "b'10019'     850\n",
              "b'22902'     832\n",
              "b'61820'     817\n",
              "            ... \n",
              "b'17036'      20\n",
              "b'15017'      20\n",
              "b'01945'      20\n",
              "b'93117'      20\n",
              "b'48043'      20\n",
              "Name: user_zip_code, Length: 795, dtype: int64"
            ]
          },
          "metadata": {},
          "execution_count": 26
        }
      ]
    },
    {
      "cell_type": "code",
      "metadata": {
        "colab": {
          "base_uri": "https://localhost:8080/"
        },
        "id": "SsffvGV3NQ8g",
        "outputId": "eaf263da-b1df-445c-d2d6-44fe57ce0dc1"
      },
      "source": [
        "#sparsity = 1 - len(data) / (num_users * num_items)\n",
        "\n",
        "sparcity = 1 - 100000/(943*1664)\n",
        "sparcity\n"
      ],
      "execution_count": 2,
      "outputs": [
        {
          "output_type": "execute_result",
          "data": {
            "text/plain": [
              "0.9362713108736438"
            ]
          },
          "metadata": {},
          "execution_count": 2
        }
      ]
    },
    {
      "cell_type": "code",
      "metadata": {
        "colab": {
          "base_uri": "https://localhost:8080/"
        },
        "id": "54-8o-xNOf8G",
        "outputId": "bf2e3023-f154-4bea-db48-8809f831cea6"
      },
      "source": [
        "#ratings/user\n",
        "ratings_per_user = 100000/943\n",
        "ratings_per_item = 100000/1664\n",
        "\n",
        "print(\"ratings per user: {}\\nratings per item: {}\".format(ratings_per_user,ratings_per_item))"
      ],
      "execution_count": 3,
      "outputs": [
        {
          "output_type": "stream",
          "text": [
            "ratings per user: 106.04453870625663\n",
            "ratings per item: 60.09615384615385\n"
          ],
          "name": "stdout"
        }
      ]
    },
    {
      "cell_type": "markdown",
      "metadata": {
        "id": "1EMoHWvjJ_0R"
      },
      "source": [
        "Remarks: \n",
        "\n",
        "1. No Missing values\n",
        "2. Data distribution has no significant under representation in age and gender variables.\n",
        "3. The average movie ratings seems to have slight right skewed guassian distribution. And a large part of movies have less than 100 ratings. Some have more than 500 user ratings.\n",
        "4. The sparcity is 0.9362\n",
        "5. Ratings/user 106.04\n",
        "6. Ratings/item 60.09\n",
        "7. TFDS dataset has slightly lesser number of movies than the original dataset"
      ]
    },
    {
      "cell_type": "markdown",
      "metadata": {
        "id": "GylY5YWRqNXt"
      },
      "source": [
        "## Building baseline using Scikit - Surprise using Explicit feedback"
      ]
    },
    {
      "cell_type": "markdown",
      "metadata": {
        "id": "1Aklua6R5qX3"
      },
      "source": [
        "Scikit-Suprise describes itself as a scikit-learn for recommender systems. Though its capabilities are limited, its a good choice for creating a baseline model. \n",
        "\n",
        "Scikit-surprise built-in datasets include \"Movielens-100k\" which can be converted into a dataset object. Though we can convert a pandas DataFrame into Surprise dataset object, it involves using the same methods that \"load_builtin\" uses to convert built-in dataset. Hence, we loaded our dataset using factory methods."
      ]
    },
    {
      "cell_type": "markdown",
      "metadata": {
        "id": "-sOHB-7OQ25E"
      },
      "source": [
        "Explicit Feedback: User generated ratings converted to popular and non popular movies using a threshold\n"
      ]
    },
    {
      "cell_type": "code",
      "metadata": {
        "colab": {
          "base_uri": "https://localhost:8080/"
        },
        "id": "ooMfG1FpqLW-",
        "outputId": "eeeaa9b9-2d95-473c-9193-975b3dd81d72"
      },
      "source": [
        "!pip install scikit-surprise"
      ],
      "execution_count": 28,
      "outputs": [
        {
          "output_type": "stream",
          "text": [
            "Requirement already satisfied: scikit-surprise in /usr/local/lib/python3.7/dist-packages (1.1.1)\n",
            "Requirement already satisfied: numpy>=1.11.2 in /usr/local/lib/python3.7/dist-packages (from scikit-surprise) (1.19.5)\n",
            "Requirement already satisfied: joblib>=0.11 in /usr/local/lib/python3.7/dist-packages (from scikit-surprise) (1.0.1)\n",
            "Requirement already satisfied: scipy>=1.0.0 in /usr/local/lib/python3.7/dist-packages (from scikit-surprise) (1.4.1)\n",
            "Requirement already satisfied: six>=1.10.0 in /usr/local/lib/python3.7/dist-packages (from scikit-surprise) (1.15.0)\n"
          ],
          "name": "stdout"
        }
      ]
    },
    {
      "cell_type": "code",
      "metadata": {
        "colab": {
          "base_uri": "https://localhost:8080/"
        },
        "id": "vViOQ37iqU57",
        "outputId": "157d71b5-6f2c-4f79-efbc-5fab51d9f02b"
      },
      "source": [
        "from surprise import SVD\n",
        "from surprise import Dataset\n",
        "from surprise.model_selection import cross_validate\n",
        "\n",
        "# Load the movielens-100k dataset (download it if needed).\n",
        "data = Dataset.load_builtin('ml-100k')\n",
        "\n",
        "\n",
        "#inspect data\n",
        "#data.raw_ratings\n",
        "\n",
        "# Use the famous SVD algorithm.\n",
        "algo = SVD()\n",
        "\n",
        "# Run 5-fold cross-validation and print results.\n",
        "cross_validate(algo, data, measures=['RMSE', 'MAE'], cv=5, verbose=True)"
      ],
      "execution_count": 43,
      "outputs": [
        {
          "output_type": "stream",
          "text": [
            "Evaluating RMSE, MAE of algorithm SVD on 5 split(s).\n",
            "\n",
            "                  Fold 1  Fold 2  Fold 3  Fold 4  Fold 5  Mean    Std     \n",
            "RMSE (testset)    0.9391  0.9402  0.9343  0.9342  0.9329  0.9361  0.0029  \n",
            "MAE (testset)     0.7383  0.7419  0.7367  0.7357  0.7361  0.7377  0.0023  \n",
            "Fit time          4.87    4.82    4.85    4.80    4.89    4.85    0.03    \n",
            "Test time         0.16    0.17    0.37    0.17    0.18    0.21    0.08    \n"
          ],
          "name": "stdout"
        },
        {
          "output_type": "execute_result",
          "data": {
            "text/plain": [
              "{'fit_time': (4.873324871063232,\n",
              "  4.82437801361084,\n",
              "  4.852083921432495,\n",
              "  4.7958033084869385,\n",
              "  4.8939478397369385),\n",
              " 'test_mae': array([0.7383396 , 0.74187757, 0.73670579, 0.73572375, 0.73606014]),\n",
              " 'test_rmse': array([0.93912795, 0.94017865, 0.93430056, 0.93421869, 0.93291132]),\n",
              " 'test_time': (0.1633610725402832,\n",
              "  0.16746807098388672,\n",
              "  0.37161779403686523,\n",
              "  0.17145252227783203,\n",
              "  0.17695331573486328)}"
            ]
          },
          "metadata": {},
          "execution_count": 43
        }
      ]
    },
    {
      "cell_type": "markdown",
      "metadata": {
        "id": "7ZjvyvJo8-wC"
      },
      "source": [
        "To compare, we need a more concrete metric such as precision@K accuracy or recall@k accuracy. So, we create one which we can utilize for other basic recommender systems. "
      ]
    },
    {
      "cell_type": "code",
      "metadata": {
        "id": "Us_cjTdbLFmj"
      },
      "source": [
        "# sample random trainset and testset\n",
        "# test set is made of 20% of the ratings.\n",
        "from surprise.model_selection import train_test_split\n",
        "trainset, testset = train_test_split(data, test_size=.20)\n",
        "\n",
        "# Train the algorithm on the trainset, and predict ratings for the testset\n",
        "algo.fit(trainset)\n",
        "predictions = algo.test(testset)"
      ],
      "execution_count": 44,
      "outputs": []
    },
    {
      "cell_type": "code",
      "metadata": {
        "id": "owXd7aQoiWB9"
      },
      "source": [
        "def precision_recall_at_k(predictions, k=10, threshold=3.5):\n",
        "    \"\"\"Return precision and recall at k metrics for each user\"\"\"\n",
        "\n",
        "    # First map the predictions to each user.\n",
        "    user_est_true = defaultdict(list)\n",
        "    for uid, _, true_r, est, _ in predictions:\n",
        "        user_est_true[uid].append((est, true_r))\n",
        "\n",
        "    precisions = dict()\n",
        "    recalls = dict()\n",
        "    for uid, user_ratings in user_est_true.items():\n",
        "\n",
        "        # Sort user ratings by estimated value\n",
        "        user_ratings.sort(key=lambda x: x[0], reverse=True)\n",
        "\n",
        "        # Number of relevant items\n",
        "        n_rel = sum((true_r >= threshold) for (_, true_r) in user_ratings)\n",
        "\n",
        "        # Number of recommended items in top k\n",
        "        n_rec_k = sum((est >= threshold) for (est, _) in user_ratings[:k])\n",
        "\n",
        "        # Number of relevant and recommended items in top k\n",
        "        n_rel_and_rec_k = sum(((true_r >= threshold) and (est >= threshold))\n",
        "                              for (est, true_r) in user_ratings[:k])\n",
        "\n",
        "        # Precision@K: Proportion of recommended items that are relevant\n",
        "        # When n_rec_k is 0, Precision is undefined. We here set it to 0.\n",
        "\n",
        "        precisions[uid] = n_rel_and_rec_k / n_rec_k if n_rec_k != 0 else 0\n",
        "\n",
        "        # Recall@K: Proportion of relevant items that are recommended\n",
        "        # When n_rel is 0, Recall is undefined. We here set it to 0.\n",
        "\n",
        "        recalls[uid] = n_rel_and_rec_k / n_rel if n_rel != 0 else 0\n",
        "\n",
        "    return precisions, recalls"
      ],
      "execution_count": 45,
      "outputs": []
    },
    {
      "cell_type": "code",
      "metadata": {
        "id": "7yM2LfchiAea"
      },
      "source": [
        "from collections import defaultdict\n",
        "precisions, recalls = precision_recall_at_k(predictions, k=5, threshold=4)"
      ],
      "execution_count": 46,
      "outputs": []
    },
    {
      "cell_type": "code",
      "metadata": {
        "colab": {
          "base_uri": "https://localhost:8080/"
        },
        "id": "rSsTpkt8kOX0",
        "outputId": "0632248c-384f-4eb9-f48c-a255228257c0"
      },
      "source": [
        "# Precision and recall can then be averaged over all users\n",
        "print(sum(prec for prec in precisions.values()) / len(precisions))\n",
        "print(sum(rec for rec in recalls.values()) / len(recalls))"
      ],
      "execution_count": 47,
      "outputs": [
        {
          "output_type": "stream",
          "text": [
            "0.6430113234253368\n",
            "0.2169263879580464\n"
          ],
          "name": "stdout"
        }
      ]
    },
    {
      "cell_type": "code",
      "metadata": {
        "colab": {
          "base_uri": "https://localhost:8080/"
        },
        "id": "YqIuBKxv7V8a",
        "outputId": "b9657199-21ff-455c-ea2e-58ee445de5b9"
      },
      "source": [
        "precisions, recalls = precision_recall_at_k(predictions, k=100, threshold=4)\n",
        "\n",
        "print(sum(prec for prec in precisions.values()) / len(precisions))\n",
        "print(sum(rec for rec in recalls.values()) / len(recalls))"
      ],
      "execution_count": 48,
      "outputs": [
        {
          "output_type": "stream",
          "text": [
            "0.6284149372356801\n",
            "0.32171498037122837\n"
          ],
          "name": "stdout"
        }
      ]
    },
    {
      "cell_type": "code",
      "metadata": {
        "id": "zpC_lZnsigeS"
      },
      "source": [
        "def get_top_n(predictions, n=10):\n",
        "    \"\"\"Return the top-N recommendation for each user from a set of predictions.\n",
        "\n",
        "    Args:\n",
        "        predictions(list of Prediction objects): The list of predictions, as\n",
        "            returned by the test method of an algorithm.\n",
        "        n(int): The number of recommendation to output for each user. Default\n",
        "            is 10.\n",
        "\n",
        "    Returns:\n",
        "    A dict where keys are user (raw) ids and values are lists of tuples:\n",
        "        [(raw item id, rating estimation), ...] of size n.\n",
        "    \"\"\"\n",
        "\n",
        "    # First map the predictions to each user.\n",
        "    top_n = defaultdict(list)\n",
        "    for uid, iid, true_r, est, _ in predictions:\n",
        "        top_n[uid].append((iid, est))\n",
        "\n",
        "    # Then sort the predictions for each user and retrieve the k highest ones.\n",
        "    for uid, user_ratings in top_n.items():\n",
        "        user_ratings.sort(key=lambda x: x[1], reverse=True)\n",
        "        top_n[uid] = user_ratings[:n]\n",
        "\n",
        "    return top_n"
      ],
      "execution_count": 34,
      "outputs": []
    },
    {
      "cell_type": "code",
      "metadata": {
        "id": "6N2MTUWUjrgl"
      },
      "source": [
        "top_n = get_top_n(predictions, n=10)"
      ],
      "execution_count": 35,
      "outputs": []
    },
    {
      "cell_type": "code",
      "metadata": {
        "colab": {
          "base_uri": "https://localhost:8080/"
        },
        "id": "gvseGYf7jwgE",
        "outputId": "e849215b-1771-4a7e-e608-e61940d2eb72"
      },
      "source": [
        "# Print the recommended items for each user\n",
        "for uid, user_ratings in top_n.items():\n",
        "    print(uid, [iid for (iid, _) in user_ratings])\n",
        "    break"
      ],
      "execution_count": 36,
      "outputs": [
        {
          "output_type": "stream",
          "text": [
            "487 ['313', '257', '181', '69', '197', '144', '179', '216', '746', '1']\n"
          ],
          "name": "stdout"
        }
      ]
    },
    {
      "cell_type": "markdown",
      "metadata": {
        "id": "ED2Xd1-Xlf_N"
      },
      "source": [
        "## Item-based collaborative filtering using KNN"
      ]
    },
    {
      "cell_type": "code",
      "metadata": {
        "colab": {
          "base_uri": "https://localhost:8080/"
        },
        "id": "Y3BDzV6MkMrx",
        "outputId": "cd339e33-190f-476f-b5ab-617e8171b232"
      },
      "source": [
        "from surprise import KNNBasic\n",
        "sim_options = {'name': 'cosine',\n",
        "               'user_based': False  # compute  similarities between items\n",
        "               }\n",
        "algo = KNNBasic(sim_options=sim_options)\n",
        "\n",
        "algo.fit(trainset)\n",
        "predictions = algo.test(testset)"
      ],
      "execution_count": 37,
      "outputs": [
        {
          "output_type": "stream",
          "text": [
            "Computing the cosine similarity matrix...\n",
            "Done computing similarity matrix.\n"
          ],
          "name": "stdout"
        }
      ]
    },
    {
      "cell_type": "code",
      "metadata": {
        "id": "my4DImRnmLjT"
      },
      "source": [
        "precisions_KNN, recalls_KNN = precision_recall_at_k(predictions, k=5, threshold=4)"
      ],
      "execution_count": 38,
      "outputs": []
    },
    {
      "cell_type": "code",
      "metadata": {
        "colab": {
          "base_uri": "https://localhost:8080/"
        },
        "id": "neEO2Br7mZeb",
        "outputId": "fbe8fbf4-c0b6-411f-8b8e-c95b61f9ce77"
      },
      "source": [
        "# Precision and recall can then be averaged over all users\n",
        "print(sum(prec for prec in precisions_KNN.values()) / len(precisions_KNN))\n",
        "print(sum(rec for rec in recalls_KNN.values()) / len(recalls_KNN))"
      ],
      "execution_count": 39,
      "outputs": [
        {
          "output_type": "stream",
          "text": [
            "0.30955414012738897\n",
            "0.10825334972715896\n"
          ],
          "name": "stdout"
        }
      ]
    },
    {
      "cell_type": "code",
      "metadata": {
        "id": "w3alAAFw6pbZ"
      },
      "source": [
        "precisions_KNN, recalls_KNN = precision_recall_at_k(predictions, k=100, threshold=4)"
      ],
      "execution_count": 40,
      "outputs": []
    },
    {
      "cell_type": "code",
      "metadata": {
        "colab": {
          "base_uri": "https://localhost:8080/"
        },
        "id": "cc47ksgs6t4L",
        "outputId": "2fd202ad-d1e4-4ec0-e0a5-a57acf92b2a2"
      },
      "source": [
        "# Precision and recall can then be averaged over all users\n",
        "print(sum(prec for prec in precisions_KNN.values()) / len(precisions_KNN))\n",
        "print(sum(rec for rec in recalls_KNN.values()) / len(recalls_KNN))"
      ],
      "execution_count": 41,
      "outputs": [
        {
          "output_type": "stream",
          "text": [
            "0.29698792258241963\n",
            "0.22253235181577344\n"
          ],
          "name": "stdout"
        }
      ]
    },
    {
      "cell_type": "markdown",
      "metadata": {
        "id": "9i4mgNqWnChe"
      },
      "source": [
        "## LIGHTFM Hybrid recommendation model using implicit feedback"
      ]
    },
    {
      "cell_type": "markdown",
      "metadata": {
        "id": "QFFDucHfpyjT"
      },
      "source": [
        "Focusing on ratings in this way ignored the importance of taking into account which movies the users chose to watch in the first place, and treating the absence of ratings as absence of information.\n",
        "\n",
        "But the things that we don't have ratings for aren't unknowns: we know the user didn't pick them. This reflects a user's conscious choice, and is a good source of information on what she thinks she might like.\n",
        "\n",
        "This sort of phenomenon is described as data which is missing-not-at-random in the literature: the ratings that are missing are more likely to be negative precisely because the user chooses which items to rate"
      ]
    },
    {
      "cell_type": "markdown",
      "metadata": {
        "id": "WxkjVfRQqDv8"
      },
      "source": [
        "This observation has led to the development of models that are suitable for implicit feedback. LightFM implements two that have proven particular successful:\n",
        "\n",
        "**BPR: Bayesian Personalised Ranking** pairwise loss. Maximises the prediction difference between a positive example and a randomly chosen negative example. Useful when only positive interactions are present and optimising ROC AUC is desired.     \n",
        "\n",
        "**WARP: Weighted Approximate-Rank Pairwise** loss. Maximises the rank of positive examples by repeatedly sampling negative examples until rank violating one is found. Useful when only positive interactions are present and optimising the top of the recommendation list (precision@k) is desired."
      ]
    },
    {
      "cell_type": "markdown",
      "metadata": {
        "id": "bQXYRcvn-18-"
      },
      "source": [
        "LightFM is a Python implementation of a number of popular recommendation algorithms for both implicit and explicit feedback, including efficient implementation of BPR and WARP ranking losses. It's easy to use, fast (via multithreaded model estimation), and produces high quality results."
      ]
    },
    {
      "cell_type": "code",
      "metadata": {
        "colab": {
          "base_uri": "https://localhost:8080/"
        },
        "id": "771s96SSttTS",
        "outputId": "a19daa89-4fdf-4fd2-db2d-d8f43c2f61cd"
      },
      "source": [
        "!pip install lightfm"
      ],
      "execution_count": 19,
      "outputs": [
        {
          "output_type": "stream",
          "text": [
            "Requirement already satisfied: lightfm in /usr/local/lib/python3.7/dist-packages (1.16)\n",
            "Requirement already satisfied: scipy>=0.17.0 in /usr/local/lib/python3.7/dist-packages (from lightfm) (1.4.1)\n",
            "Requirement already satisfied: requests in /usr/local/lib/python3.7/dist-packages (from lightfm) (2.23.0)\n",
            "Requirement already satisfied: scikit-learn in /usr/local/lib/python3.7/dist-packages (from lightfm) (0.22.2.post1)\n",
            "Requirement already satisfied: numpy in /usr/local/lib/python3.7/dist-packages (from lightfm) (1.19.5)\n",
            "Requirement already satisfied: chardet<4,>=3.0.2 in /usr/local/lib/python3.7/dist-packages (from requests->lightfm) (3.0.4)\n",
            "Requirement already satisfied: certifi>=2017.4.17 in /usr/local/lib/python3.7/dist-packages (from requests->lightfm) (2021.5.30)\n",
            "Requirement already satisfied: urllib3!=1.25.0,!=1.25.1,<1.26,>=1.21.1 in /usr/local/lib/python3.7/dist-packages (from requests->lightfm) (1.24.3)\n",
            "Requirement already satisfied: idna<3,>=2.5 in /usr/local/lib/python3.7/dist-packages (from requests->lightfm) (2.10)\n",
            "Requirement already satisfied: joblib>=0.11 in /usr/local/lib/python3.7/dist-packages (from scikit-learn->lightfm) (1.0.1)\n"
          ],
          "name": "stdout"
        }
      ]
    },
    {
      "cell_type": "code",
      "metadata": {
        "id": "GKec2_EBnBwH"
      },
      "source": [
        "from lightfm.datasets import fetch_movielens\n",
        "\n",
        "movielens = fetch_movielens()"
      ],
      "execution_count": 20,
      "outputs": []
    },
    {
      "cell_type": "markdown",
      "metadata": {
        "id": "FbySFFsjUC40"
      },
      "source": [
        "The train and test datasets are generated from the main data file u.data from Movielens. The data sets ua.base, ua.test, split the u.data into a training set and a test set with exactly 10 ratings per user in the test set.  "
      ]
    },
    {
      "cell_type": "code",
      "metadata": {
        "colab": {
          "base_uri": "https://localhost:8080/"
        },
        "id": "7HLYc1KuowWI",
        "outputId": "f66b597e-576d-4bc7-d853-af42e156287b"
      },
      "source": [
        "for key, value in movielens.items():\n",
        "    print(key, type(value), value.shape)"
      ],
      "execution_count": 21,
      "outputs": [
        {
          "output_type": "stream",
          "text": [
            "train <class 'scipy.sparse.coo.coo_matrix'> (943, 1682)\n",
            "test <class 'scipy.sparse.coo.coo_matrix'> (943, 1682)\n",
            "item_features <class 'scipy.sparse.csr.csr_matrix'> (1682, 1682)\n",
            "item_feature_labels <class 'numpy.ndarray'> (1682,)\n",
            "item_labels <class 'numpy.ndarray'> (1682,)\n"
          ],
          "name": "stdout"
        }
      ]
    },
    {
      "cell_type": "code",
      "metadata": {
        "id": "KeERV3OOo7N9"
      },
      "source": [
        "train = movielens['train']\n",
        "test = movielens['test']"
      ],
      "execution_count": 22,
      "outputs": []
    },
    {
      "cell_type": "code",
      "metadata": {
        "colab": {
          "base_uri": "https://localhost:8080/"
        },
        "id": "2b0MNwQ-8hyA",
        "outputId": "836c1196-2718-4396-90bd-c2a0530a4261"
      },
      "source": [
        "train.shape\n",
        "test.shape"
      ],
      "execution_count": 52,
      "outputs": [
        {
          "output_type": "execute_result",
          "data": {
            "text/plain": [
              "(943, 1682)"
            ]
          },
          "metadata": {},
          "execution_count": 52
        }
      ]
    },
    {
      "cell_type": "code",
      "metadata": {
        "colab": {
          "base_uri": "https://localhost:8080/"
        },
        "id": "o-MxKsnspLHl",
        "outputId": "f8896164-a545-4487-e25b-ed1311aee556"
      },
      "source": [
        "from lightfm import LightFM\n",
        "from lightfm.evaluation import precision_at_k\n",
        "from lightfm.evaluation import auc_score\n",
        "\n",
        "model = LightFM(learning_rate=0.05, loss='bpr')\n",
        "model.fit(train, epochs=10)\n",
        "\n",
        "train_precision = precision_at_k(model, train, k=5).mean()\n",
        "test_precision = precision_at_k(model, test, k=5).mean()\n",
        "\n",
        "train_auc = auc_score(model, train).mean()\n",
        "test_auc = auc_score(model, test).mean()\n",
        "\n",
        "print('Precision: train %.2f, test %.2f.' % (train_precision, test_precision))\n",
        "print('AUC: train %.2f, test %.2f.' % (train_auc, test_auc))"
      ],
      "execution_count": 23,
      "outputs": [
        {
          "output_type": "stream",
          "text": [
            "Precision: train 0.63, test 0.11.\n",
            "AUC: train 0.90, test 0.86.\n"
          ],
          "name": "stdout"
        }
      ]
    },
    {
      "cell_type": "code",
      "metadata": {
        "colab": {
          "base_uri": "https://localhost:8080/"
        },
        "id": "V97l5aG83eFi",
        "outputId": "590b4ccb-4bad-4f3d-c39c-746ec01807d6"
      },
      "source": [
        "train_precision = precision_at_k(model, train, k=100).mean()\n",
        "test_precision = precision_at_k(model, test, k=100).mean()\n",
        "\n",
        "print('Precision: train %.2f, test %.2f.' % (train_precision, test_precision))"
      ],
      "execution_count": 24,
      "outputs": [
        {
          "output_type": "stream",
          "text": [
            "Precision: train 0.37, test 0.05.\n"
          ],
          "name": "stdout"
        }
      ]
    },
    {
      "cell_type": "code",
      "metadata": {
        "colab": {
          "base_uri": "https://localhost:8080/"
        },
        "id": "MeNQ7MAZt994",
        "outputId": "67c137d2-4ad4-4355-dec7-00b215014a26"
      },
      "source": [
        "model = LightFM(learning_rate=0.05, loss='warp')\n",
        "model.fit(train, epochs=10)\n",
        "\n",
        "train_precision = precision_at_k(model, train, k=5).mean()\n",
        "test_precision = precision_at_k(model, test, k=5).mean()\n",
        "\n",
        "train_auc = auc_score(model, train).mean()\n",
        "test_auc = auc_score(model, test).mean()\n",
        "\n",
        "print('Precision: train %.2f, test %.2f.' % (train_precision, test_precision))\n",
        "print('AUC: train %.2f, test %.2f.' % (train_auc, test_auc))"
      ],
      "execution_count": 25,
      "outputs": [
        {
          "output_type": "stream",
          "text": [
            "Precision: train 0.65, test 0.13.\n",
            "AUC: train 0.94, test 0.90.\n"
          ],
          "name": "stdout"
        }
      ]
    },
    {
      "cell_type": "code",
      "metadata": {
        "colab": {
          "base_uri": "https://localhost:8080/"
        },
        "id": "27WX_lwW33ph",
        "outputId": "36830408-d1fa-4873-d583-51c9800e4c52"
      },
      "source": [
        "train_precision = precision_at_k(model, train, k=100).mean()\n",
        "test_precision = precision_at_k(model, test, k=100).mean()\n",
        "\n",
        "print('Precision: train %.2f, test %.2f.' % (train_precision, test_precision))"
      ],
      "execution_count": 26,
      "outputs": [
        {
          "output_type": "stream",
          "text": [
            "Precision: train 0.40, test 0.05.\n"
          ],
          "name": "stdout"
        }
      ]
    },
    {
      "cell_type": "markdown",
      "metadata": {
        "id": "fDGbTNOTC0Gq"
      },
      "source": [
        "## Tensorflow Recommenders"
      ]
    },
    {
      "cell_type": "code",
      "metadata": {
        "id": "oxEv-wkUHWDS"
      },
      "source": [
        "# Select the basic features.\n",
        "ratings = ratings.map(lambda x: {\n",
        "    \"movie_title\": x[\"movie_title\"],\n",
        "    \"user_id\": x[\"user_id\"]\n",
        "})\n",
        "movies = movies.map(lambda x: x[\"movie_title\"])"
      ],
      "execution_count": 5,
      "outputs": []
    },
    {
      "cell_type": "code",
      "metadata": {
        "id": "wdBxdzhLHia_"
      },
      "source": [
        "user_ids_vocabulary = tf.keras.layers.experimental.preprocessing.StringLookup(mask_token=None)\n",
        "user_ids_vocabulary.adapt(ratings.map(lambda x: x[\"user_id\"]))\n",
        "\n",
        "movie_titles_vocabulary = tf.keras.layers.experimental.preprocessing.StringLookup(mask_token=None)\n",
        "movie_titles_vocabulary.adapt(movies)"
      ],
      "execution_count": null,
      "outputs": []
    },
    {
      "cell_type": "code",
      "metadata": {
        "id": "5xYp4hJdHXtc"
      },
      "source": [
        "class MovieLensModel(tfrs.Model):\n",
        "  # We derive from a custom base class to help reduce boilerplate. Under the hood,\n",
        "  # these are still plain Keras Models.\n",
        "\n",
        "  def __init__(\n",
        "      self,\n",
        "      user_model: tf.keras.Model,\n",
        "      movie_model: tf.keras.Model,\n",
        "      task: tfrs.tasks.Retrieval):\n",
        "    super().__init__()\n",
        "\n",
        "    # Set up user and movie representations.\n",
        "    self.user_model = user_model\n",
        "    self.movie_model = movie_model\n",
        "\n",
        "    # Set up a retrieval task.\n",
        "    self.task = task\n",
        "\n",
        "  def compute_loss(self, features: Dict[Text, tf.Tensor], training=False) -> tf.Tensor:\n",
        "    # Define how the loss is computed.\n",
        "\n",
        "    user_embeddings = self.user_model(features[\"user_id\"])\n",
        "    movie_embeddings = self.movie_model(features[\"movie_title\"])\n",
        "\n",
        "    return self.task(user_embeddings, movie_embeddings)"
      ],
      "execution_count": null,
      "outputs": []
    },
    {
      "cell_type": "code",
      "metadata": {
        "colab": {
          "base_uri": "https://localhost:8080/"
        },
        "id": "s0rfzvSBH6RM",
        "outputId": "ba9abf5c-da22-4147-80af-6595c0a87400"
      },
      "source": [
        "# Define user and movie models.\n",
        "user_model = tf.keras.Sequential([\n",
        "    user_ids_vocabulary,\n",
        "    tf.keras.layers.Embedding(user_ids_vocabulary.vocab_size(), 64)\n",
        "])\n",
        "movie_model = tf.keras.Sequential([\n",
        "    movie_titles_vocabulary,\n",
        "    tf.keras.layers.Embedding(movie_titles_vocabulary.vocab_size(), 64)\n",
        "])\n",
        "\n",
        "# Define your objectives.\n",
        "task = tfrs.tasks.Retrieval(metrics=tfrs.metrics.FactorizedTopK(\n",
        "    movies.batch(128).map(movie_model)\n",
        "  )\n",
        ")"
      ],
      "execution_count": null,
      "outputs": [
        {
          "output_type": "stream",
          "text": [
            "WARNING:tensorflow:vocab_size is deprecated, please use vocabulary_size.\n"
          ],
          "name": "stdout"
        },
        {
          "output_type": "stream",
          "text": [
            "WARNING:tensorflow:vocab_size is deprecated, please use vocabulary_size.\n"
          ],
          "name": "stderr"
        },
        {
          "output_type": "stream",
          "text": [
            "WARNING:tensorflow:vocab_size is deprecated, please use vocabulary_size.\n"
          ],
          "name": "stdout"
        },
        {
          "output_type": "stream",
          "text": [
            "WARNING:tensorflow:vocab_size is deprecated, please use vocabulary_size.\n"
          ],
          "name": "stderr"
        }
      ]
    },
    {
      "cell_type": "code",
      "metadata": {
        "colab": {
          "base_uri": "https://localhost:8080/"
        },
        "id": "70IWtBO_H-Tc",
        "outputId": "fae1ccc0-f2c5-428d-c441-7525e2c3b91d"
      },
      "source": [
        "# Create a retrieval model.\n",
        "model = MovieLensModel(user_model, movie_model, task)\n",
        "model.compile(optimizer=tf.keras.optimizers.Adagrad(0.5))\n",
        "\n",
        "# Train for 3 epochs.\n",
        "model.fit(ratings.batch(4096), epochs=3)\n",
        "\n",
        "# Use brute-force search to set up retrieval using the trained representations.\n",
        "index = tfrs.layers.factorized_top_k.BruteForce(model.user_model)\n",
        "index.index(movies.batch(100).map(model.movie_model), movies)\n",
        "\n",
        "# Get some recommendations.\n",
        "_, titles = index(np.array([\"42\"]))\n",
        "print(f\"Top 3 recommendations for user 42: {titles[0, :3]}\")"
      ],
      "execution_count": null,
      "outputs": [
        {
          "output_type": "stream",
          "text": [
            "Epoch 1/3\n",
            "25/25 [==============================] - 22s 817ms/step - factorized_top_k/top_1_categorical_accuracy: 3.0000e-05 - factorized_top_k/top_5_categorical_accuracy: 0.0015 - factorized_top_k/top_10_categorical_accuracy: 0.0049 - factorized_top_k/top_50_categorical_accuracy: 0.0453 - factorized_top_k/top_100_categorical_accuracy: 0.1023 - loss: 33080.7426 - regularization_loss: 0.0000e+00 - total_loss: 33080.7426\n",
            "Epoch 2/3\n",
            "25/25 [==============================] - 20s 801ms/step - factorized_top_k/top_1_categorical_accuracy: 1.5000e-04 - factorized_top_k/top_5_categorical_accuracy: 0.0055 - factorized_top_k/top_10_categorical_accuracy: 0.0153 - factorized_top_k/top_50_categorical_accuracy: 0.1053 - factorized_top_k/top_100_categorical_accuracy: 0.2124 - loss: 31006.1699 - regularization_loss: 0.0000e+00 - total_loss: 31006.1699\n",
            "Epoch 3/3\n",
            "25/25 [==============================] - 20s 803ms/step - factorized_top_k/top_1_categorical_accuracy: 6.2000e-04 - factorized_top_k/top_5_categorical_accuracy: 0.0091 - factorized_top_k/top_10_categorical_accuracy: 0.0231 - factorized_top_k/top_50_categorical_accuracy: 0.1442 - factorized_top_k/top_100_categorical_accuracy: 0.2709 - loss: 30412.6231 - regularization_loss: 0.0000e+00 - total_loss: 30412.6231\n",
            "Top 3 recommendations for user 42: [b'Rent-a-Kid (1995)' b'Just Cause (1995)'\n",
            " b'Winnie the Pooh and the Blustery Day (1968)']\n"
          ],
          "name": "stdout"
        }
      ]
    },
    {
      "cell_type": "markdown",
      "metadata": {
        "id": "CzGiICBZUIe5"
      },
      "source": [
        "### Adding context and using a Deep learning model "
      ]
    },
    {
      "cell_type": "markdown",
      "metadata": {
        "id": "y2iflHGm0ZAA"
      },
      "source": [
        "Many factors affect features beyond ids are useful in a recommender model:\n",
        "\n",
        "**Importance of context:** if user preferences are relatively stable across contexts and time, context features may not provide much benefit. If, however, users preferences are highly contextual, adding context will improve the model significantly. For example, day of the week may be an important feature when deciding whether to recommend a short clip or a movie: users may only have time to watch short content during the week, but can relax and enjoy a full-length movie during the weekend. Similarly, query timestamps may play an important role in modelling popularity dynamics: one movie may be highly popular around the time of its release, but decay quickly afterwards. Conversely, other movies may be evergreens that are happily watched time and time again.\n",
        "\n",
        "**Data sparsity:** using non-id features may be critical if data is sparse. With few observations available for a given user or item, the model may struggle with estimating a good per-user or per-item representation. To build an accurate model, other features such as item categories, descriptions, and images have to be used to help the model generalize beyond the training data. This is especially relevant in cold-start situations, where relatively little data is available on some items or users."
      ]
    },
    {
      "cell_type": "markdown",
      "metadata": {
        "id": "pJjIQlIQ1Fu4"
      },
      "source": [
        "The process involves converting user, movie, and time features into embeddings and using the concatenated embeddings to retrieve candidates"
      ]
    },
    {
      "cell_type": "code",
      "metadata": {
        "id": "wpOBe30q0Lak"
      },
      "source": [
        "ratings = ratings.map(lambda x: {\n",
        "    \"movie_title\": x[\"movie_title\"],\n",
        "    \"user_id\": x[\"user_id\"],\n",
        "    \"timestamp\": x[\"timestamp\"],\n",
        "})\n",
        "\n",
        "movies = movies.map(lambda x: x[\"movie_title\"])"
      ],
      "execution_count": 11,
      "outputs": []
    },
    {
      "cell_type": "code",
      "metadata": {
        "id": "h-hja-VUMln6"
      },
      "source": [
        "timestamps = np.concatenate(list(ratings.map(lambda x: x[\"timestamp\"]).batch(100)))\n",
        "\n",
        "max_timestamp = timestamps.max()\n",
        "min_timestamp = timestamps.min()\n",
        "\n",
        "timestamp_buckets = np.linspace(\n",
        "    min_timestamp, max_timestamp, num=1000,\n",
        ")\n",
        "\n",
        "unique_movie_titles = np.unique(np.concatenate(list(movies.batch(1000))))\n",
        "unique_user_ids = np.unique(np.concatenate(list(ratings.batch(1_000).map(\n",
        "    lambda x: x[\"user_id\"]))))"
      ],
      "execution_count": 12,
      "outputs": []
    },
    {
      "cell_type": "code",
      "metadata": {
        "id": "ALIP6Dp_x3Dr"
      },
      "source": [
        "class UserModel(tf.keras.Model):\n",
        "\n",
        "  def __init__(self, use_timestamps):\n",
        "    super().__init__()\n",
        "\n",
        "    self._use_timestamps = use_timestamps\n",
        "\n",
        "    self.user_embedding = tf.keras.Sequential([\n",
        "        tf.keras.layers.experimental.preprocessing.StringLookup(\n",
        "            vocabulary=unique_user_ids, mask_token=None),\n",
        "        tf.keras.layers.Embedding(len(unique_user_ids) + 1, 32),\n",
        "    ])\n",
        "\n",
        "    if use_timestamps:\n",
        "      self.timestamp_embedding = tf.keras.Sequential([\n",
        "          tf.keras.layers.experimental.preprocessing.Discretization(timestamp_buckets.tolist()),\n",
        "          tf.keras.layers.Embedding(len(timestamp_buckets) + 1, 32),\n",
        "      ])\n",
        "      self.normalized_timestamp = tf.keras.layers.experimental.preprocessing.Normalization(\n",
        "          axis=None\n",
        "      )\n",
        "\n",
        "      self.normalized_timestamp.adapt(timestamps)\n",
        "\n",
        "  def call(self, inputs):\n",
        "    if not self._use_timestamps:\n",
        "      return self.user_embedding(inputs[\"user_id\"])\n",
        "\n",
        "    return tf.concat([\n",
        "        self.user_embedding(inputs[\"user_id\"]),\n",
        "        self.timestamp_embedding(inputs[\"timestamp\"]),\n",
        "        tf.reshape(self.normalized_timestamp(inputs[\"timestamp\"]), (-1, 1)),\n",
        "    ], axis=1)"
      ],
      "execution_count": 13,
      "outputs": []
    },
    {
      "cell_type": "code",
      "metadata": {
        "id": "5dX6U2i1x8gv"
      },
      "source": [
        "class MovieModel(tf.keras.Model):\n",
        "\n",
        "  def __init__(self):\n",
        "    super().__init__()\n",
        "\n",
        "    max_tokens = 10_000\n",
        "\n",
        "    self.title_embedding = tf.keras.Sequential([\n",
        "      tf.keras.layers.experimental.preprocessing.StringLookup(\n",
        "          vocabulary=unique_movie_titles, mask_token=None),\n",
        "      tf.keras.layers.Embedding(len(unique_movie_titles) + 1, 32)\n",
        "    ])\n",
        "\n",
        "    self.title_vectorizer = tf.keras.layers.experimental.preprocessing.TextVectorization(\n",
        "        max_tokens=max_tokens)\n",
        "\n",
        "    self.title_text_embedding = tf.keras.Sequential([\n",
        "      self.title_vectorizer,\n",
        "      tf.keras.layers.Embedding(max_tokens, 32, mask_zero=True),\n",
        "      tf.keras.layers.GlobalAveragePooling1D(),\n",
        "    ])\n",
        "\n",
        "    self.title_vectorizer.adapt(movies)\n",
        "\n",
        "  def call(self, titles):\n",
        "    return tf.concat([\n",
        "        self.title_embedding(titles),\n",
        "        self.title_text_embedding(titles),\n",
        "    ], axis=1)"
      ],
      "execution_count": 14,
      "outputs": []
    },
    {
      "cell_type": "code",
      "metadata": {
        "id": "O8XHdAcvyBFZ"
      },
      "source": [
        "class MovielensModel(tfrs.models.Model):\n",
        "\n",
        "  def __init__(self, use_timestamps):\n",
        "    super().__init__()\n",
        "    self.query_model = tf.keras.Sequential([\n",
        "      UserModel(use_timestamps),\n",
        "      tf.keras.layers.Dense(32)\n",
        "    ])\n",
        "    self.candidate_model = tf.keras.Sequential([\n",
        "      MovieModel(),\n",
        "      tf.keras.layers.Dense(32)\n",
        "    ])\n",
        "    self.task = tfrs.tasks.Retrieval(\n",
        "        metrics=tfrs.metrics.FactorizedTopK(\n",
        "            candidates=movies.batch(128).map(self.candidate_model),\n",
        "        ),\n",
        "    )\n",
        "\n",
        "  def compute_loss(self, features, training=False):\n",
        "    # We only pass the user id and timestamp features into the query model. This\n",
        "    # is to ensure that the training inputs would have the same keys as the\n",
        "    # query inputs. Otherwise the discrepancy in input structure would cause an\n",
        "    # error when loading the query model after saving it.\n",
        "    query_embeddings = self.query_model({\n",
        "        \"user_id\": features[\"user_id\"],\n",
        "        \"timestamp\": features[\"timestamp\"],\n",
        "    })\n",
        "    movie_embeddings = self.candidate_model(features[\"movie_title\"])\n",
        "\n",
        "    return self.task(query_embeddings, movie_embeddings)"
      ],
      "execution_count": 15,
      "outputs": []
    },
    {
      "cell_type": "code",
      "metadata": {
        "id": "A2GhisCFyIVL"
      },
      "source": [
        "tf.random.set_seed(42)\n",
        "shuffled = ratings.shuffle(100_000, seed=42, reshuffle_each_iteration=False)\n",
        "\n",
        "train = shuffled.take(80_000)\n",
        "test = shuffled.skip(80_000).take(20_000)\n",
        "\n",
        "cached_train = train.shuffle(100_000).batch(2048)\n",
        "cached_test = test.batch(4096).cache()"
      ],
      "execution_count": 16,
      "outputs": []
    },
    {
      "cell_type": "code",
      "metadata": {
        "colab": {
          "base_uri": "https://localhost:8080/"
        },
        "id": "jD0rfmCjyMkW",
        "outputId": "388bf870-6393-423c-ce74-c44bf11516e8"
      },
      "source": [
        "model = MovielensModel(use_timestamps=False)\n",
        "model.compile(optimizer=tf.keras.optimizers.Adagrad(0.1))\n",
        "\n",
        "model.fit(cached_train, epochs=3)\n",
        "\n",
        "train_accuracy = model.evaluate(\n",
        "    cached_train, return_dict=True)[\"factorized_top_k/top_100_categorical_accuracy\"]\n",
        "test_accuracy = model.evaluate(\n",
        "    cached_test, return_dict=True)[\"factorized_top_k/top_100_categorical_accuracy\"]\n",
        "\n",
        "print(f\"Top-100 accuracy (train): {train_accuracy:.2f}.\")\n",
        "print(f\"Top-100 accuracy (test): {test_accuracy:.2f}.\")"
      ],
      "execution_count": 17,
      "outputs": [
        {
          "output_type": "stream",
          "text": [
            "Epoch 1/3\n",
            "WARNING:tensorflow:Layers in a Sequential model should only have a single input tensor, but we receive a <class 'dict'> input: {'user_id': <tf.Tensor 'IteratorGetNext:2' shape=(None,) dtype=string>, 'timestamp': <tf.Tensor 'IteratorGetNext:1' shape=(None,) dtype=int64>}\n",
            "Consider rewriting this model with the Functional API.\n"
          ],
          "name": "stdout"
        },
        {
          "output_type": "stream",
          "text": [
            "WARNING:tensorflow:Layers in a Sequential model should only have a single input tensor, but we receive a <class 'dict'> input: {'user_id': <tf.Tensor 'IteratorGetNext:2' shape=(None,) dtype=string>, 'timestamp': <tf.Tensor 'IteratorGetNext:1' shape=(None,) dtype=int64>}\n",
            "Consider rewriting this model with the Functional API.\n"
          ],
          "name": "stderr"
        },
        {
          "output_type": "stream",
          "text": [
            "WARNING:tensorflow:Layers in a Sequential model should only have a single input tensor, but we receive a <class 'dict'> input: {'user_id': <tf.Tensor 'IteratorGetNext:2' shape=(None,) dtype=string>, 'timestamp': <tf.Tensor 'IteratorGetNext:1' shape=(None,) dtype=int64>}\n",
            "Consider rewriting this model with the Functional API.\n"
          ],
          "name": "stdout"
        },
        {
          "output_type": "stream",
          "text": [
            "WARNING:tensorflow:Layers in a Sequential model should only have a single input tensor, but we receive a <class 'dict'> input: {'user_id': <tf.Tensor 'IteratorGetNext:2' shape=(None,) dtype=string>, 'timestamp': <tf.Tensor 'IteratorGetNext:1' shape=(None,) dtype=int64>}\n",
            "Consider rewriting this model with the Functional API.\n"
          ],
          "name": "stderr"
        },
        {
          "output_type": "stream",
          "text": [
            "40/40 [==============================] - 59s 560ms/step - factorized_top_k/top_1_categorical_accuracy: 0.0092 - factorized_top_k/top_5_categorical_accuracy: 0.0172 - factorized_top_k/top_10_categorical_accuracy: 0.0256 - factorized_top_k/top_50_categorical_accuracy: 0.0825 - factorized_top_k/top_100_categorical_accuracy: 0.1475 - loss: 14579.4626 - regularization_loss: 0.0000e+00 - total_loss: 14579.4626\n",
            "Epoch 2/3\n",
            "40/40 [==============================] - 25s 560ms/step - factorized_top_k/top_1_categorical_accuracy: 0.0020 - factorized_top_k/top_5_categorical_accuracy: 0.0126 - factorized_top_k/top_10_categorical_accuracy: 0.0251 - factorized_top_k/top_50_categorical_accuracy: 0.1129 - factorized_top_k/top_100_categorical_accuracy: 0.2133 - loss: 14136.2136 - regularization_loss: 0.0000e+00 - total_loss: 14136.2136\n",
            "Epoch 3/3\n",
            "40/40 [==============================] - 25s 562ms/step - factorized_top_k/top_1_categorical_accuracy: 0.0021 - factorized_top_k/top_5_categorical_accuracy: 0.0155 - factorized_top_k/top_10_categorical_accuracy: 0.0307 - factorized_top_k/top_50_categorical_accuracy: 0.1389 - factorized_top_k/top_100_categorical_accuracy: 0.2535 - loss: 13939.9263 - regularization_loss: 0.0000e+00 - total_loss: 13939.9263\n",
            "WARNING:tensorflow:Layers in a Sequential model should only have a single input tensor, but we receive a <class 'dict'> input: {'user_id': <tf.Tensor 'IteratorGetNext:2' shape=(None,) dtype=string>, 'timestamp': <tf.Tensor 'IteratorGetNext:1' shape=(None,) dtype=int64>}\n",
            "Consider rewriting this model with the Functional API.\n"
          ],
          "name": "stdout"
        },
        {
          "output_type": "stream",
          "text": [
            "WARNING:tensorflow:Layers in a Sequential model should only have a single input tensor, but we receive a <class 'dict'> input: {'user_id': <tf.Tensor 'IteratorGetNext:2' shape=(None,) dtype=string>, 'timestamp': <tf.Tensor 'IteratorGetNext:1' shape=(None,) dtype=int64>}\n",
            "Consider rewriting this model with the Functional API.\n"
          ],
          "name": "stderr"
        },
        {
          "output_type": "stream",
          "text": [
            "40/40 [==============================] - 25s 540ms/step - factorized_top_k/top_1_categorical_accuracy: 0.0039 - factorized_top_k/top_5_categorical_accuracy: 0.0227 - factorized_top_k/top_10_categorical_accuracy: 0.0429 - factorized_top_k/top_50_categorical_accuracy: 0.1732 - factorized_top_k/top_100_categorical_accuracy: 0.2944 - loss: 13711.3803 - regularization_loss: 0.0000e+00 - total_loss: 13711.3803\n",
            "5/5 [==============================] - 8s 1s/step - factorized_top_k/top_1_categorical_accuracy: 9.0000e-04 - factorized_top_k/top_5_categorical_accuracy: 0.0076 - factorized_top_k/top_10_categorical_accuracy: 0.0185 - factorized_top_k/top_50_categorical_accuracy: 0.1051 - factorized_top_k/top_100_categorical_accuracy: 0.2131 - loss: 30995.9001 - regularization_loss: 0.0000e+00 - total_loss: 30995.9001\n",
            "Top-100 accuracy (train): 0.29.\n",
            "Top-100 accuracy (test): 0.21.\n"
          ],
          "name": "stdout"
        }
      ]
    },
    {
      "cell_type": "code",
      "metadata": {
        "colab": {
          "base_uri": "https://localhost:8080/"
        },
        "id": "R4I9FX9vyQK2",
        "outputId": "4ab0c5ca-a17a-4871-86bb-5698e1104d7d"
      },
      "source": [
        "model = MovielensModel(use_timestamps=True)\n",
        "model.compile(optimizer=tf.keras.optimizers.Adagrad(0.1))\n",
        "\n",
        "model.fit(cached_train, epochs=3)\n",
        "\n",
        "train_accuracy = model.evaluate(\n",
        "    cached_train, return_dict=True)[\"factorized_top_k/top_100_categorical_accuracy\"]\n",
        "test_accuracy = model.evaluate(\n",
        "    cached_test, return_dict=True)[\"factorized_top_k/top_100_categorical_accuracy\"]\n",
        "\n",
        "print(f\"Top-100 accuracy (train): {train_accuracy:.2f}.\")\n",
        "print(f\"Top-100 accuracy (test): {test_accuracy:.2f}.\")"
      ],
      "execution_count": 18,
      "outputs": [
        {
          "output_type": "stream",
          "text": [
            "Epoch 1/3\n",
            "WARNING:tensorflow:Layers in a Sequential model should only have a single input tensor, but we receive a <class 'dict'> input: {'user_id': <tf.Tensor 'IteratorGetNext:2' shape=(None,) dtype=string>, 'timestamp': <tf.Tensor 'IteratorGetNext:1' shape=(None,) dtype=int64>}\n",
            "Consider rewriting this model with the Functional API.\n"
          ],
          "name": "stdout"
        },
        {
          "output_type": "stream",
          "text": [
            "WARNING:tensorflow:Layers in a Sequential model should only have a single input tensor, but we receive a <class 'dict'> input: {'user_id': <tf.Tensor 'IteratorGetNext:2' shape=(None,) dtype=string>, 'timestamp': <tf.Tensor 'IteratorGetNext:1' shape=(None,) dtype=int64>}\n",
            "Consider rewriting this model with the Functional API.\n"
          ],
          "name": "stderr"
        },
        {
          "output_type": "stream",
          "text": [
            "WARNING:tensorflow:Layers in a Sequential model should only have a single input tensor, but we receive a <class 'dict'> input: {'user_id': <tf.Tensor 'IteratorGetNext:2' shape=(None,) dtype=string>, 'timestamp': <tf.Tensor 'IteratorGetNext:1' shape=(None,) dtype=int64>}\n",
            "Consider rewriting this model with the Functional API.\n"
          ],
          "name": "stdout"
        },
        {
          "output_type": "stream",
          "text": [
            "WARNING:tensorflow:Layers in a Sequential model should only have a single input tensor, but we receive a <class 'dict'> input: {'user_id': <tf.Tensor 'IteratorGetNext:2' shape=(None,) dtype=string>, 'timestamp': <tf.Tensor 'IteratorGetNext:1' shape=(None,) dtype=int64>}\n",
            "Consider rewriting this model with the Functional API.\n"
          ],
          "name": "stderr"
        },
        {
          "output_type": "stream",
          "text": [
            "40/40 [==============================] - 27s 579ms/step - factorized_top_k/top_1_categorical_accuracy: 0.0059 - factorized_top_k/top_5_categorical_accuracy: 0.0148 - factorized_top_k/top_10_categorical_accuracy: 0.0237 - factorized_top_k/top_50_categorical_accuracy: 0.0811 - factorized_top_k/top_100_categorical_accuracy: 0.1475 - loss: 14605.1664 - regularization_loss: 0.0000e+00 - total_loss: 14605.1664\n",
            "Epoch 2/3\n",
            "40/40 [==============================] - 26s 581ms/step - factorized_top_k/top_1_categorical_accuracy: 0.0026 - factorized_top_k/top_5_categorical_accuracy: 0.0154 - factorized_top_k/top_10_categorical_accuracy: 0.0300 - factorized_top_k/top_50_categorical_accuracy: 0.1380 - factorized_top_k/top_100_categorical_accuracy: 0.2513 - loss: 13955.9811 - regularization_loss: 0.0000e+00 - total_loss: 13955.9811\n",
            "Epoch 3/3\n",
            "40/40 [==============================] - 26s 577ms/step - factorized_top_k/top_1_categorical_accuracy: 0.0024 - factorized_top_k/top_5_categorical_accuracy: 0.0194 - factorized_top_k/top_10_categorical_accuracy: 0.0398 - factorized_top_k/top_50_categorical_accuracy: 0.1722 - factorized_top_k/top_100_categorical_accuracy: 0.3017 - loss: 13696.8629 - regularization_loss: 0.0000e+00 - total_loss: 13696.8629\n",
            "WARNING:tensorflow:Layers in a Sequential model should only have a single input tensor, but we receive a <class 'dict'> input: {'user_id': <tf.Tensor 'IteratorGetNext:2' shape=(None,) dtype=string>, 'timestamp': <tf.Tensor 'IteratorGetNext:1' shape=(None,) dtype=int64>}\n",
            "Consider rewriting this model with the Functional API.\n"
          ],
          "name": "stdout"
        },
        {
          "output_type": "stream",
          "text": [
            "WARNING:tensorflow:Layers in a Sequential model should only have a single input tensor, but we receive a <class 'dict'> input: {'user_id': <tf.Tensor 'IteratorGetNext:2' shape=(None,) dtype=string>, 'timestamp': <tf.Tensor 'IteratorGetNext:1' shape=(None,) dtype=int64>}\n",
            "Consider rewriting this model with the Functional API.\n"
          ],
          "name": "stderr"
        },
        {
          "output_type": "stream",
          "text": [
            "40/40 [==============================] - 25s 553ms/step - factorized_top_k/top_1_categorical_accuracy: 0.0052 - factorized_top_k/top_5_categorical_accuracy: 0.0320 - factorized_top_k/top_10_categorical_accuracy: 0.0610 - factorized_top_k/top_50_categorical_accuracy: 0.2267 - factorized_top_k/top_100_categorical_accuracy: 0.3645 - loss: 13384.1320 - regularization_loss: 0.0000e+00 - total_loss: 13384.1320\n",
            "5/5 [==============================] - 5s 987ms/step - factorized_top_k/top_1_categorical_accuracy: 0.0016 - factorized_top_k/top_5_categorical_accuracy: 0.0098 - factorized_top_k/top_10_categorical_accuracy: 0.0220 - factorized_top_k/top_50_categorical_accuracy: 0.1269 - factorized_top_k/top_100_categorical_accuracy: 0.2485 - loss: 30700.6270 - regularization_loss: 0.0000e+00 - total_loss: 30700.6270\n",
            "Top-100 accuracy (train): 0.36.\n",
            "Top-100 accuracy (test): 0.25.\n"
          ],
          "name": "stdout"
        }
      ]
    },
    {
      "cell_type": "markdown",
      "metadata": {
        "id": "HGwmb5784GKf"
      },
      "source": [
        "# Conclusion"
      ]
    },
    {
      "cell_type": "markdown",
      "metadata": {
        "id": "DCc1N2qe2phr"
      },
      "source": [
        "Here, I tried to implement multiple recommendation systems libraries on Movielens-100K dataset. I successfully ran the packages and presented their results. Challenges include creating a single test dataset and comparing the results. As these libraries have their own preprocessing and data conversion steps, it is a challenge to make a test set that is unique for all the packages. With little effort, we have our first recommendation models. \n",
        "\n",
        "To do: Ranking steps in TFRS"
      ]
    },
    {
      "cell_type": "markdown",
      "metadata": {
        "id": "e9tDVZAB8Tf5"
      },
      "source": [
        "**Model Comparison and discussion:**"
      ]
    },
    {
      "cell_type": "markdown",
      "metadata": {
        "id": "7d_cgdDk4RK1"
      },
      "source": [
        "| Model      | Precision@5 | Precision@100    |Feedback|\n",
        "| :---        |    :----:   |          ---: | |\n",
        "| SVD      |  0.64      | 0.62   |Explicit |\n",
        "| KNN   |  0.30       | 0.29      | Explicit|\n",
        "| LIGHTFM|0.13 | 0.005|Implicit|\n",
        "|TFRS|0.0076 |0.21 |Implicit |\n",
        "|TFRS-CONTEXT|0.0098|0.25|Implicit|"
      ]
    },
    {
      "cell_type": "markdown",
      "metadata": {
        "id": "pY6DDaux8ctp"
      },
      "source": [
        "* With SVD and KNN on 20% testset data, we could be able to get good precision@k accuracy, but we need to understand that explicit feedback with available users ratings doesn't consider problems such as coldstart, sparsity etc. as discussed above.\n",
        "* LIGHTFM is the fastest available algorithm. Though it embeds user and item metadata, It is limited in the explainability because it sums up the embeddings unlike in TFRS. As described in the Case-study  document, Its very efficient and scalable and works well for small and medium scale datasets. Here, the reason for low Precision@K might be due to how the test and train datasets generated by the movielens.[needs to be investigated]\n",
        "* TensorFlow Recommenders(TFRS) is suitable for more complex experimentation such as one described in the Youtube Recommendation system paper. And it comes with end to end serving optimized algorithms. \n",
        "\n",
        "To conclude, **TFRS will be a good choice for Movie recommendation.** "
      ]
    },
    {
      "cell_type": "markdown",
      "metadata": {
        "id": "6_fM3fguEKTm"
      },
      "source": [
        "# References:\n",
        "\n",
        "\n",
        "1. https://www.tensorflow.org/recommenders/examples/quickstart\n",
        "2. http://surpriselib.com/\n",
        "3. https://making.lyst.com/lightfm/docs/quickstart.html"
      ]
    },
    {
      "cell_type": "markdown",
      "metadata": {
        "id": "rckwarhAYoa0"
      },
      "source": [
        "***"
      ]
    },
    {
      "cell_type": "code",
      "metadata": {
        "id": "rB-0OutRYq6I"
      },
      "source": [
        ""
      ],
      "execution_count": null,
      "outputs": []
    }
  ]
}