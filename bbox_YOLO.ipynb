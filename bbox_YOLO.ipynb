{
  "nbformat": 4,
  "nbformat_minor": 0,
  "metadata": {
    "colab": {
      "name": "bbox_YOLO.ipynb",
      "provenance": [],
      "authorship_tag": "ABX9TyNzhYKhLCeRa4qr0r+EgzIS",
      "include_colab_link": true
    },
    "kernelspec": {
      "name": "python3",
      "display_name": "Python 3"
    }
  },
  "cells": [
    {
      "cell_type": "markdown",
      "metadata": {
        "id": "view-in-github",
        "colab_type": "text"
      },
      "source": [
        "<a href=\"https://colab.research.google.com/github/yaswanthkumargothi/Barcode_Detection/blob/main/bbox_YOLO.ipynb\" target=\"_parent\"><img src=\"https://colab.research.google.com/assets/colab-badge.svg\" alt=\"Open In Colab\"/></a>"
      ]
    },
    {
      "cell_type": "code",
      "metadata": {
        "colab": {
          "base_uri": "https://localhost:8080/"
        },
        "id": "wrAgLaIijPhC",
        "outputId": "dcc8d6d6-ee2c-4671-9a22-5286fc0cc79f"
      },
      "source": [
        "from google.colab import drive\r\n",
        "drive.mount('/content/drive')"
      ],
      "execution_count": null,
      "outputs": [
        {
          "output_type": "stream",
          "text": [
            "Mounted at /content/drive\n"
          ],
          "name": "stdout"
        }
      ]
    },
    {
      "cell_type": "code",
      "metadata": {
        "id": "5dgUxYbKlwd1"
      },
      "source": [
        "import glob2\r\n",
        "import imutils\r\n",
        "import cv2\r\n",
        "import os\r\n",
        "\r\n",
        "from google.colab.patches import cv2_imshow\r\n",
        "from pathlib import Path\r\n",
        "from tqdm import tqdm\r\n",
        "import shutil\r\n",
        "\r\n"
      ],
      "execution_count": null,
      "outputs": []
    },
    {
      "cell_type": "code",
      "metadata": {
        "id": "bPGyaAzGll6g"
      },
      "source": [
        "path = \"/content/drive/MyDrive/1d_barcode_extended_plain/Detection\""
      ],
      "execution_count": null,
      "outputs": []
    },
    {
      "cell_type": "code",
      "metadata": {
        "id": "zEz1u6E1luwL"
      },
      "source": [
        "all_images = glob2.glob(path+'/*.png')\r\n",
        "train_images=all_images[:int(len(all_images)*0.8)]\r\n",
        "val_images=all_images[int(len(all_images)*0.8):]"
      ],
      "execution_count": null,
      "outputs": []
    },
    {
      "cell_type": "code",
      "metadata": {
        "id": "1E_G9merJxb_"
      },
      "source": [
        "txt_files_path = \"/content/drive/MyDrive/1d_barcode_extended_plain\""
      ],
      "execution_count": null,
      "outputs": []
    },
    {
      "cell_type": "code",
      "metadata": {
        "id": "ud6rFVgDJkA7"
      },
      "source": [
        "train_path=txt_files_path + \"/train.txt\"\r\n",
        "dirpath = Path(f\"{train_path}\")\r\n",
        "if dirpath.exists() and dirpath.is_dir():\r\n",
        "  shutil.rmtree(dirpath)\r\n",
        "\r\n",
        "\r\n",
        "val_path = txt_files_path + \"/val.txt\"\r\n",
        "dirpath = Path(f\"{val_path}\")\r\n",
        "if dirpath.exists() and dirpath.is_dir():\r\n",
        "  shutil.rmtree(dirpath)\r\n",
        "\r\n",
        "\r\n",
        "with open(txt_files_path + \"/train.txt\", \"w\") as txt_file:\r\n",
        "        for item in train_images:\r\n",
        "          \r\n",
        "          label_name = os.path.basename(item)\r\n",
        "          img_txt='data/images/'+label_name\r\n",
        "          txt_file.write(\"%s\\n\" % img_txt)\r\n",
        "\r\n",
        "with open(txt_files_path+\"/val.txt\",mode=\"w\") as txt_file:\r\n",
        "        for item in val_images:\r\n",
        "          label_name = os.path.basename(item)\r\n",
        "          img_txt='data/images/'+label_name\r\n",
        "          txt_file.write(\"%s\\n\" % img_txt)"
      ],
      "execution_count": null,
      "outputs": []
    },
    {
      "cell_type": "code",
      "metadata": {
        "colab": {
          "base_uri": "https://localhost:8080/"
        },
        "id": "TScLz-0-mcCX",
        "outputId": "aba7c139-c317-42b8-946a-b27a5ac9176a"
      },
      "source": [
        "print(os.path.splitext(m)[0])"
      ],
      "execution_count": null,
      "outputs": [
        {
          "output_type": "stream",
          "text": [
            "05102009140\n"
          ],
          "name": "stdout"
        }
      ]
    },
    {
      "cell_type": "code",
      "metadata": {
        "id": "cloTbyGrcBZj"
      },
      "source": [
        "def create_dataset(dataset_type,dataset):\r\n",
        "    # load the image, convert it to grayscale, and blur it slightly\r\n",
        "    lab_path=Path(f\"/content/drive/MyDrive/1d_barcode_extended_plain/labels/{dataset_type}\")\r\n",
        "      \r\n",
        "    dirpath = lab_path\r\n",
        "    if dirpath.exists() and dirpath.is_dir():\r\n",
        "      shutil.rmtree(dirpath)\r\n",
        "\r\n",
        "    for img_id in tqdm(dataset):\r\n",
        "\r\n",
        "      image = cv2.imread(img_id)\r\n",
        "      row,col,chan=image.shape\r\n",
        "      gray = cv2.cvtColor(image, cv2.COLOR_BGR2GRAY)\r\n",
        "      gray = cv2.GaussianBlur(gray, (5, 5), 0)\r\n",
        "      # threshold the image,\r\n",
        "      thresh = cv2.threshold(gray, 200, 255, cv2.THRESH_BINARY)[1]\r\n",
        "      # find contours in thresholded image, then grab the largest\r\n",
        "      # one\r\n",
        "      cnts = cv2.findContours(thresh.copy(), cv2.RETR_EXTERNAL,\r\n",
        "          cv2.CHAIN_APPROX_SIMPLE)\r\n",
        "      cnts = imutils.grab_contours(cnts)\r\n",
        "      c = max(cnts, key=cv2.contourArea)\r\n",
        "      x,y,w,h = cv2.boundingRect(c)\r\n",
        "      \r\n",
        "      yolo_x,yolo_y,yolo_w,yolo_h=(x+w/2)/col,(y-h/2)/row,w/col,h/row\r\n",
        "      # draw the contours of c\r\n",
        "      #cv2.drawContours(image, [c], -1, (0, 0, 255), 2)\r\n",
        "\r\n",
        "      cv2.rectangle(image,(x,y),(x+w,y+h),(0,255,0),2)\r\n",
        "\r\n",
        "\r\n",
        "      # show the output image\r\n",
        "      #cv2_imshow(image)\r\n",
        "      #cv2.waitKey(0)\r\n",
        "\r\n",
        "      labels_path = Path(f\"/content/drive/MyDrive/1d_barcode_extended_plain/labels/{dataset_type}\")\r\n",
        "\r\n",
        "      labels_path.mkdir(parents=True, exist_ok=True)\r\n",
        "      \r\n",
        "      m= os.path.basename(img_id)\r\n",
        "      label_name = f\"{os.path.splitext(m)[0]}.txt\"\r\n",
        "      with (labels_path / label_name).open(mode=\"w\") as label_file:\r\n",
        "        label_file.write(\r\n",
        "                  f\"{0} {yolo_x} {yolo_y} {yolo_w} {yolo_h}\\n\"\r\n",
        "                )\r\n",
        "      "
      ],
      "execution_count": null,
      "outputs": []
    },
    {
      "cell_type": "code",
      "metadata": {
        "colab": {
          "base_uri": "https://localhost:8080/"
        },
        "id": "EFlgC3pfnKTN",
        "outputId": "950a7b95-c874-428a-ee6d-2bf0c8649b35"
      },
      "source": [
        "create_dataset('train',train_images)"
      ],
      "execution_count": null,
      "outputs": [
        {
          "output_type": "stream",
          "text": [
            "100%|██████████| 292/292 [00:05<00:00, 57.91it/s]\n"
          ],
          "name": "stderr"
        }
      ]
    },
    {
      "cell_type": "code",
      "metadata": {
        "colab": {
          "base_uri": "https://localhost:8080/"
        },
        "id": "OhBAC4nTqI7l",
        "outputId": "12a1e0c8-968d-4c87-f93e-f83e1ac38d19"
      },
      "source": [
        "create_dataset('val',val_images)"
      ],
      "execution_count": null,
      "outputs": [
        {
          "output_type": "stream",
          "text": [
            "100%|██████████| 73/73 [00:18<00:00,  3.94it/s]\n"
          ],
          "name": "stderr"
        }
      ]
    },
    {
      "cell_type": "code",
      "metadata": {
        "colab": {
          "base_uri": "https://localhost:8080/",
          "height": 514
        },
        "id": "c2vOHStpq7mr",
        "outputId": "bc4b63e2-207e-465b-e7a1-e282d9a4339b"
      },
      "source": [
        "image = cv2.imread(\"/content/drive/MyDrive/1d_barcode_extended_plain/Detection/05102009082.png\")\r\n",
        "[row,col]=image.shape[:2]\r\n",
        "gray = cv2.cvtColor(image, cv2.COLOR_BGR2GRAY)\r\n",
        "gray = cv2.GaussianBlur(gray, (5, 5), 0)\r\n",
        "      # threshold the image,\r\n",
        "thresh = cv2.threshold(gray, 200, 255, cv2.THRESH_BINARY)[1]\r\n",
        "      # find contours in thresholded image, then grab the largest\r\n",
        "      # one\r\n",
        "cnts = cv2.findContours(thresh.copy(), cv2.RETR_EXTERNAL,\r\n",
        "          cv2.CHAIN_APPROX_SIMPLE)\r\n",
        "cnts = imutils.grab_contours(cnts)\r\n",
        "c = max(cnts, key=cv2.contourArea)\r\n",
        "x,y,w,h = cv2.boundingRect(c)\r\n",
        "      \r\n",
        "yolo_x,yolo_y,yolo_w,yolo_h=(x+w/2)/col,(y-h/2)/row,w/col,h/row\r\n",
        "      # draw the contours of c\r\n",
        "      #cv2.drawContours(image, [c], -1, (0, 0, 255), 2)\r\n",
        "cv2.rectangle(image,(x,y),(x+w,y+h),(0,255,0),2)\r\n",
        "\r\n",
        "\r\n",
        "      # show the output image\r\n",
        "cv2_imshow(image)\r\n",
        "cv2.waitKey(0)\r\n"
      ],
      "execution_count": null,
      "outputs": [
        {
          "output_type": "display_data",
          "data": {
            "image/png": "[encoded data removed]",
            "text/plain": [
              "<PIL.Image.Image image mode=RGB size=640x480 at 0x7FDEC6D16A90>"
            ]
          },
          "metadata": {
            "tags": []
          }
        },
        {
          "output_type": "execute_result",
          "data": {
            "text/plain": [
              "-1"
            ]
          },
          "metadata": {
            "tags": []
          },
          "execution_count": 10
        }
      ]
    }
  ]
}